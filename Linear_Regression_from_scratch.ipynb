{
  "nbformat": 4,
  "nbformat_minor": 0,
  "metadata": {
    "colab": {
      "name": "Linear Regression from scratch.ipynb",
      "provenance": []
    },
    "kernelspec": {
      "name": "python3",
      "display_name": "Python 3"
    },
    "language_info": {
      "name": "python"
    }
  },
  "cells": [
    {
      "cell_type": "code",
      "metadata": {
        "id": "f7rzbfAWidu1"
      },
      "source": [
        "class LinearRegression:\n",
        "  def __init__(self, lr= 0.001, epochs= 10000):\n",
        "    self.lr = lr\n",
        "    self.epochs = epochs\n",
        "    self.weights = None\n",
        "    self.bias = None\n",
        "\n",
        "  def fit(self, X, y):\n",
        "    n_samples, n_features = X.shape\n",
        "    self.weights = np.zeros(n_features)\n",
        "    self.bias = 0\n",
        "\n",
        "    for _ in range(self.epochs):\n",
        "      y_predicted = np.dot(X, self.weights) + self.bias\n",
        "      cost = (1/n_samples) * np.sum((y-y_predicted)**2)\n",
        "      dw = (2/n_samples) * np.dot(X.T, (y_predicted-y))\n",
        "      db = (2/n_samples) * np.sum(y_predicted - y)\n",
        "\n",
        "      self.weights -= self.lr*dw\n",
        "      self.bias -= self.lr*db\n",
        "\n",
        "  def predict(self, X):\n",
        "    y_pred = np.dot(X, self.weights) + self.bias\n",
        "    return y_pred\n"
      ],
      "execution_count": null,
      "outputs": []
    }
  ]
}